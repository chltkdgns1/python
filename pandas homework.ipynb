{
 "cells": [
  {
   "cell_type": "markdown",
   "metadata": {},
   "source": [
    "## 과제4"
   ]
  },
  {
   "cell_type": "markdown",
   "metadata": {},
   "source": [
    "1. #로 표시된 줄에 아랫줄 코드의 주석 쓰기 (단순한 변수, 함수 이름의 나열이 아닌 구체적인 설명을 쓸 것)\n",
    "2. #TODO: 설명 이 써있는 줄을 알맞은 코드로 대체\n",
    "3. 각 셀을 실행하여 결과 출력\n",
    "4. 본 파일 이름을 ```Homework4_학번_이름``` 으로 변경하여 kyurijo@chungbuk.ac.kr로 제출 (이메일 제목:```[과제4]학번_이름```)\n",
    "5. 제출기한 : 11월 17일 일요일 23:59:59"
   ]
  },
  {
   "cell_type": "markdown",
   "metadata": {},
   "source": [
    "## Task 1"
   ]
  },
  {
   "cell_type": "code",
   "execution_count": 17,
   "metadata": {},
   "outputs": [
    {
     "name": "stdout",
     "output_type": "stream",
     "text": [
      "(24092, 7)\n",
      "       year                artist                    track  time date.entered  \\\n",
      "0      2000                 2 Pac  Baby Don't Cry (Keep...  4:22   2000-02-26   \n",
      "1      2000               2Ge+her  The Hardest Part Of ...  3:15   2000-09-02   \n",
      "2      2000          3 Doors Down               Kryptonite  3:53   2000-04-08   \n",
      "3      2000          3 Doors Down                    Loser  4:24   2000-10-21   \n",
      "4      2000              504 Boyz            Wobble Wobble  3:35   2000-04-15   \n",
      "5      2000                  98^0  Give Me Just One Nig...  3:24   2000-08-19   \n",
      "6      2000               A*Teens            Dancing Queen  3:44   2000-07-08   \n",
      "7      2000               Aaliyah            I Don't Wanna  4:15   2000-01-29   \n",
      "8      2000               Aaliyah                Try Again  4:03   2000-03-18   \n",
      "9      2000        Adams, Yolanda            Open My Heart  5:30   2000-08-26   \n",
      "10     2000         Adkins, Trace                     More  3:05   2000-04-29   \n",
      "11     2000   Aguilera, Christina  Come On Over Baby (A...  3:38   2000-08-05   \n",
      "12     2000   Aguilera, Christina            I Turn To You  4:00   2000-04-15   \n",
      "13     2000   Aguilera, Christina        What A Girl Wants  3:18   1999-11-27   \n",
      "14     2000          Alice Deejay         Better Off Alone  6:50   2000-04-08   \n",
      "15     2000           Allan, Gary  Smoke Rings In The D...  4:18   2000-01-22   \n",
      "16     2000                 Amber                   Sexual  4:38   1999-07-17   \n",
      "17     2000             Anastacia           I'm Outta Love  4:01   2000-04-01   \n",
      "18     2000         Anthony, Marc              My Baby You  3:59   2000-09-16   \n",
      "19     2000         Anthony, Marc           You Sang To Me  3:50   2000-02-26   \n",
      "20     2000                 Avant            My First Love  4:28   2000-11-04   \n",
      "21     2000                 Avant                Separated  4:13   2000-04-29   \n",
      "22     2000                 BBMak                Back Here  3:35   2000-04-29   \n",
      "23     2000  Backstreet Boys, The        Shape Of My Heart  3:49   2000-10-14   \n",
      "24     2000  Backstreet Boys, The  Show Me The Meaning ...  3:54   2000-01-01   \n",
      "25     2000  Backstreet Boys, The                  The One  3:46   2000-05-27   \n",
      "26     2000          Badu, Erkyah                 Bag Lady  5:03   2000-08-19   \n",
      "27     2000              Baha Men     Who Let The Dogs Out  3:17   2000-07-22   \n",
      "28     2000      Barenaked Ladies                 Pinch Me  3:46   2000-09-09   \n",
      "29     2000            Beenie Man          Girls Dem Sugar  4:17   2000-10-21   \n",
      "...     ...                   ...                      ...   ...          ...   \n",
      "24062  2000          Thomas, Carl                Emotional  4:31   2000-11-25   \n",
      "24063  2000          Thomas, Carl                   I Wish  3:50   2000-03-25   \n",
      "24064  2000          Thomas, Carl              Summer Rain  4:57   2000-09-23   \n",
      "24065  2000         Tippin, Aaron                Kiss This  2:53   2000-08-26   \n",
      "24066  2000                 Train            Meet Virginia  3:55   1999-10-09   \n",
      "24067  2000           Trick Daddy                  Shut Up  4:17   2000-05-20   \n",
      "24068  2000                 Trina                Pull Over  2:58   2000-09-09   \n",
      "24069  2000         Tritt, Travis       Best Of Intentions  4:15   2000-08-19   \n",
      "24070  2000               Tuesday                   I Know  4:06   2000-12-30   \n",
      "24071  2000          Urban, Keith          Your Everything  4:10   2000-07-15   \n",
      "24072  2000                 Usher            Pop Ya Collar  3:36   2000-11-04   \n",
      "24073  2000          Vassar, Phil                  Carlene  4:07   2000-03-04   \n",
      "24074  2000          Vassar, Phil  Just Another Day In ...  3:54   2000-09-30   \n",
      "24075  2000      Vertical Horizon      Everything You Want  4:01   2000-01-22   \n",
      "24076  2000      Vertical Horizon             You're A God  3:45   2000-08-26   \n",
      "24077  2000             Vitamin C  Graduation (Friends ...  4:23   2000-04-15   \n",
      "24078  2000             Vitamin C                 The Itch  3:30   2000-12-02   \n",
      "24079  2000          Walker, Clay        Live, Laugh, Love  4:06   1999-12-04   \n",
      "24080  2000          Walker, Clay        The Chain Of Love  5:03   2000-04-15   \n",
      "24081  2000      Wallflowers, The              Sleepwalker  3:29   2000-10-28   \n",
      "24082  2000              Westlife           Swear It Again  4:07   2000-04-01   \n",
      "24083  2000      Williams, Robbie                   Angels  3:56   1999-11-20   \n",
      "24084  2000           Wills, Mark              Back At One  4:00   2000-01-15   \n",
      "24085  2000        Worley, Darryl  When You Need My Lov...  3:35   2000-06-17   \n",
      "24086  2000         Wright, Chely                   It Was  3:51   2000-03-04   \n",
      "24087  2000           Yankee Grey     Another Nine Minutes  3:10   2000-04-29   \n",
      "24088  2000      Yearwood, Trisha          Real Live Woman  3:55   2000-04-01   \n",
      "24089  2000       Ying Yang Twins  Whistle While You Tw...  4:19   2000-03-18   \n",
      "24090  2000         Zombie Nation            Kernkraft 400  3:30   2000-09-02   \n",
      "24091  2000       matchbox twenty                     Bent  4:12   2000-04-29   \n",
      "\n",
      "       week  rating  \n",
      "0       wk1    87.0  \n",
      "1       wk1    91.0  \n",
      "2       wk1    81.0  \n",
      "3       wk1    76.0  \n",
      "4       wk1    57.0  \n",
      "5       wk1    51.0  \n",
      "6       wk1    97.0  \n",
      "7       wk1    84.0  \n",
      "8       wk1    59.0  \n",
      "9       wk1    76.0  \n",
      "10      wk1    84.0  \n",
      "11      wk1    57.0  \n",
      "12      wk1    50.0  \n",
      "13      wk1    71.0  \n",
      "14      wk1    79.0  \n",
      "15      wk1    80.0  \n",
      "16      wk1    99.0  \n",
      "17      wk1    92.0  \n",
      "18      wk1    82.0  \n",
      "19      wk1    77.0  \n",
      "20      wk1    70.0  \n",
      "21      wk1    62.0  \n",
      "22      wk1    99.0  \n",
      "23      wk1    39.0  \n",
      "24      wk1    74.0  \n",
      "25      wk1    58.0  \n",
      "26      wk1    67.0  \n",
      "27      wk1    99.0  \n",
      "28      wk1    77.0  \n",
      "29      wk1    72.0  \n",
      "...     ...     ...  \n",
      "24062  wk76     NaN  \n",
      "24063  wk76     NaN  \n",
      "24064  wk76     NaN  \n",
      "24065  wk76     NaN  \n",
      "24066  wk76     NaN  \n",
      "24067  wk76     NaN  \n",
      "24068  wk76     NaN  \n",
      "24069  wk76     NaN  \n",
      "24070  wk76     NaN  \n",
      "24071  wk76     NaN  \n",
      "24072  wk76     NaN  \n",
      "24073  wk76     NaN  \n",
      "24074  wk76     NaN  \n",
      "24075  wk76     NaN  \n",
      "24076  wk76     NaN  \n",
      "24077  wk76     NaN  \n",
      "24078  wk76     NaN  \n",
      "24079  wk76     NaN  \n",
      "24080  wk76     NaN  \n",
      "24081  wk76     NaN  \n",
      "24082  wk76     NaN  \n",
      "24083  wk76     NaN  \n",
      "24084  wk76     NaN  \n",
      "24085  wk76     NaN  \n",
      "24086  wk76     NaN  \n",
      "24087  wk76     NaN  \n",
      "24088  wk76     NaN  \n",
      "24089  wk76     NaN  \n",
      "24090  wk76     NaN  \n",
      "24091  wk76     NaN  \n",
      "\n",
      "[24092 rows x 7 columns]\n"
     ]
    }
   ],
   "source": [
    "import matplotlib.pyplot as plt\n",
    "import pandas as pd\n",
    "from numpy import NaN\n",
    "# billboard.csv 를 읽어옵니다.\n",
    "billboard = pd.read_csv('billboard.csv')\n",
    "#  넓은 데이터 : 열 이름이 변수 이름이 아닌 값을 표현하고 있음\n",
    "# 데이터 녹이기를 통해 깔금한 데이터로 변경\n",
    "billboard_long = pd.melt(billboard, id_vars=['year', 'artist', 'track', 'time', 'date.entered'], var_name='week', value_name='rating')\n",
    "\n",
    "#TODO : billboard_long의 행, 열 개수 출력\n",
    "#TODO : billboard_long의 데이터 출력\n",
    "\n",
    "print( billboard_long.shape)\n",
    "print(billboard_long)"
   ]
  },
  {
   "cell_type": "code",
   "execution_count": 10,
   "metadata": {},
   "outputs": [
    {
     "name": "stdout",
     "output_type": "stream",
     "text": [
      "      year        artist  track  time date.entered week  rating\n",
      "3     2000  3 Doors Down  Loser  4:24   2000-10-21  wk1    76.0\n",
      "320   2000  3 Doors Down  Loser  4:24   2000-10-21  wk2    76.0\n",
      "637   2000  3 Doors Down  Loser  4:24   2000-10-21  wk3    72.0\n",
      "954   2000  3 Doors Down  Loser  4:24   2000-10-21  wk4    69.0\n",
      "1271  2000  3 Doors Down  Loser  4:24   2000-10-21  wk5    67.0\n"
     ]
    }
   ],
   "source": [
    "#track 의 값이 Loser 인 행들을 가져옵니다. \n",
    "b_loser = billboard_long[billboard_long.track == 'Loser']\n",
    "print(b_loser.head())"
   ]
  },
  {
   "cell_type": "code",
   "execution_count": 11,
   "metadata": {},
   "outputs": [
    {
     "name": "stdout",
     "output_type": "stream",
     "text": [
      "(24092, 4)\n"
     ]
    }
   ],
   "source": [
    "#year artist tack time 의 값들을 열로 갖는 행들을 가져옵니다.\n",
    "billboard_songs = billboard_long[['year', 'artist', 'track', 'time']] \n",
    "print(billboard_songs.shape)"
   ]
  },
  {
   "cell_type": "code",
   "execution_count": 12,
   "metadata": {},
   "outputs": [
    {
     "name": "stdout",
     "output_type": "stream",
     "text": [
      "(317, 4)\n"
     ]
    }
   ],
   "source": [
    "#billborad_songs 의 요소들 중 중복된 요소를 제거하나 하나만 남깁니다.\n",
    "billboard_songs = billboard_songs.drop_duplicates() \n",
    "print(billboard_songs.shape)"
   ]
  },
  {
   "cell_type": "code",
   "execution_count": 13,
   "metadata": {},
   "outputs": [
    {
     "name": "stdout",
     "output_type": "stream",
     "text": [
      "   year          artist                    track  time  id\n",
      "0  2000           2 Pac  Baby Don't Cry (Keep...  4:22   0\n",
      "1  2000         2Ge+her  The Hardest Part Of ...  3:15   1\n",
      "2  2000    3 Doors Down               Kryptonite  3:53   2\n",
      "3  2000    3 Doors Down                    Loser  4:24   3\n",
      "4  2000        504 Boyz            Wobble Wobble  3:35   4\n",
      "5  2000            98^0  Give Me Just One Nig...  3:24   5\n",
      "6  2000         A*Teens            Dancing Queen  3:44   6\n",
      "7  2000         Aaliyah            I Don't Wanna  4:15   7\n",
      "8  2000         Aaliyah                Try Again  4:03   8\n",
      "9  2000  Adams, Yolanda            Open My Heart  5:30   9\n"
     ]
    }
   ],
   "source": [
    "# id 란을 추가하고 billboard_songs 의 길이를 넣어줍니다.\n",
    "billboard_songs['id'] = range(len(billboard_songs)) \n",
    "print(billboard_songs.head(n=10))"
   ]
  },
  {
   "cell_type": "code",
   "execution_count": 14,
   "metadata": {},
   "outputs": [
    {
     "name": "stdout",
     "output_type": "stream",
     "text": [
      "(24092, 8)\n",
      "   year artist                    track  time date.entered week  rating  id\n",
      "0  2000  2 Pac  Baby Don't Cry (Keep...  4:22   2000-02-26  wk1    87.0   0\n",
      "1  2000  2 Pac  Baby Don't Cry (Keep...  4:22   2000-02-26  wk2    82.0   0\n",
      "2  2000  2 Pac  Baby Don't Cry (Keep...  4:22   2000-02-26  wk3    72.0   0\n",
      "3  2000  2 Pac  Baby Don't Cry (Keep...  4:22   2000-02-26  wk4    77.0   0\n",
      "4  2000  2 Pac  Baby Don't Cry (Keep...  4:22   2000-02-26  wk5    87.0   0\n"
     ]
    }
   ],
   "source": [
    "# merge 메서드는 내부 조인을 통해 왼쪽, 오른쪽 데이터프레임에서 지정한 열이 일치할 때 연결됩니다. \n",
    "# billborad_songs 와 billboard-_long 의 year artist track time 이 일치하므로 합쳐집니다.\n",
    "billboard_ratings = billboard_long.merge(billboard_songs, on=['year', 'artist', 'track', 'time']) \n",
    "print(billboard_ratings.shape)\n",
    "print(billboard_ratings.head())"
   ]
  },
  {
   "cell_type": "code",
   "execution_count": 15,
   "metadata": {},
   "outputs": [
    {
     "name": "stderr",
     "output_type": "stream",
     "text": [
      "C:\\ProgramData\\Anaconda3\\lib\\site-packages\\ipykernel_launcher.py:7: UserWarning: Boolean Series key will be reindexed to match DataFrame index.\n",
      "  import sys\n",
      "C:\\ProgramData\\Anaconda3\\lib\\site-packages\\ipykernel_launcher.py:15: SettingWithCopyWarning: \n",
      "A value is trying to be set on a copy of a slice from a DataFrame.\n",
      "Try using .loc[row_indexer,col_indexer] = value instead\n",
      "\n",
      "See the caveats in the documentation: http://pandas.pydata.org/pandas-docs/stable/indexing.html#indexing-view-versus-copy\n",
      "  from ipykernel import kernelapp as app\n"
     ]
    },
    {
     "data": {
      "text/plain": [
       "[<matplotlib.lines.Line2D at 0x9c13ba8>]"
      ]
     },
     "execution_count": 15,
     "metadata": {},
     "output_type": "execute_result"
    },
    {
     "data": {
      "image/png": "[encoded data removed]",
      "text/plain": [
       "<Figure size 1440x288 with 1 Axes>"
      ]
     },
     "metadata": {
      "needs_background": "light"
     },
     "output_type": "display_data"
    }
   ],
   "source": [
    "fig = plt.figure(figsize=(20,4))\n",
    "axis = fig.add_subplot(111)\n",
    "\n",
    "#TODO : billboard_long에서 1) track 이름이 Kryptonite 이고, 2) rating이 NaN이 아닌 행의 3)'week', 'rating' 열을 가져와서 subset 변수에 저장\n",
    "#힌트 : pd.notnull(dataframe변수) 를 사용하면 NaN이 아닌 행이 True인 시리즈를 얻을 수 있음\n",
    "t = billboard_long[billboard_long.track == 'Kryptonite']\n",
    "w = t[pd.notnull(billboard_long.rating) == True]\n",
    "subset = w[['week','rating']]\n",
    "\n",
    "#print(subset)\n",
    "\n",
    "#TODO : subset의 week 열을 문자열 'wk'을 기준으로 분리한 뒤, 두번째 요소들(몇 주인지를 나타내는 숫자)을 새로운 열 'week_num'으로 저장\n",
    "#힌트 : str.split()과 str.get() 사용\n",
    "\n",
    "subset['week_num'] = subset['week'].str.split('wk').str.get(1)\n",
    "axis.plot(subset['week_num'], subset['rating'])"
   ]
  },
  {
   "cell_type": "markdown",
   "metadata": {},
   "source": [
    "## Task 2"
   ]
  },
  {
   "cell_type": "code",
   "execution_count": 1,
   "metadata": {},
   "outputs": [
    {
     "name": "stdout",
     "output_type": "stream",
     "text": [
      "fhv_tripdata_2015-01.csv\n",
      "fhv_tripdata_2015-02.csv\n",
      "fhv_tripdata_2015-03.csv\n",
      "fhv_tripdata_2015-04.csv\n",
      "fhv_tripdata_2015-05.csv\n"
     ]
    }
   ],
   "source": [
    "import os \n",
    "import urllib.request\n",
    "\n",
    "# 파일 다운로드에 시간이 오래 걸릴 수 있으니 5개 파일이 다 받아질 때까지 기다릴 것\n",
    "with open('raw_data_urls.txt', 'r') as data_urls:\n",
    "   # enumerate 함수를 사용하여 파일에서 가져온 데이터(파일에 있는 모든 문자열을 리스트로 가져옵니다.)\n",
    "    # 를 인덱스와 데이터로 나누어줍니다.\n",
    "    # 따라서 line 에는 인덱스 , url 은 data_urls 의 데이터가 들어갑니다.\n",
    "    for line, url in enumerate(data_urls.readlines()):\n",
    "        if line == 5:\n",
    "            break \n",
    "        #TODO: url에서 마지막 / 뒷부분에 있는 파일 이름만 분리하여 fn 변수에 저장 \n",
    "        fn = url.split('/')[len(url.split('/')) - 1].strip('\\n')\n",
    "        print(fn)\n",
    "        urllib.request.urlretrieve(url, fn)"
   ]
  },
  {
   "cell_type": "code",
   "execution_count": 2,
   "metadata": {},
   "outputs": [
    {
     "name": "stdout",
     "output_type": "stream",
     "text": [
      "['fhv_tripdata_2015-01.csv', 'fhv_tripdata_2015-02.csv', 'fhv_tripdata_2015-03.csv', 'fhv_tripdata_2015-04.csv', 'fhv_tripdata_2015-05.csv']\n"
     ]
    }
   ],
   "source": [
    "import glob \n",
    "# glob()는 특정한 패턴의 이름을 가진 파일을 한번에 읽어들임\n",
    "nyc_taxi_data = glob.glob('fhv_*') \n",
    "print(nyc_taxi_data)"
   ]
  },
  {
   "cell_type": "code",
   "execution_count": 6,
   "metadata": {},
   "outputs": [
    {
     "name": "stdout",
     "output_type": "stream",
     "text": [
      "(2746033, 3)\n",
      "(3126401, 3)\n",
      "(3281427, 3)\n",
      "(3917789, 3)\n",
      "(4296067, 3)\n",
      "5\n"
     ]
    }
   ],
   "source": [
    "list_taxi_df = [] \n",
    "\n",
    "for csv_filename in nyc_taxi_data:\n",
    "    df = pd.read_csv(csv_filename)\n",
    "    print(df.shape)\n",
    "    # fhv_ 로 읽어오 파일들의 데이터를 갖은 csv_filename 을 리스트로 저장합니다.\n",
    "    # append 는 df 룰 하나씩 추가합니다.\n",
    "    list_taxi_df.append(df) \n",
    "\n",
    "print(len(list_taxi_df))"
   ]
  },
  {
   "cell_type": "code",
   "execution_count": 8,
   "metadata": {},
   "outputs": [
    {
     "name": "stdout",
     "output_type": "stream",
     "text": [
      "(17367717, 3)\n"
     ]
    }
   ],
   "source": [
    "# list_taxi_df 의 인덱스의 데이터 여러 개를 데이터프레임 위 아래로 연결합니다.\n",
    "# 단 ,열이 같을 경우에만 해당합니다.\n",
    "taxi_loop_concat = pd.concat(list_taxi_df) \n",
    "print(taxi_loop_concat.shape)"
   ]
  },
  {
   "cell_type": "code",
   "execution_count": 23,
   "metadata": {
    "scrolled": true
   },
   "outputs": [],
   "source": [
    "#TODO : taxi_loop_concat의 Dispatching_base_num이 B00029인 행만 골라서 Pickup_date 열을 추출한 뒤, \n",
    "# pd.to_datetime()으로 datetime 타입으로 변경한 시리즈를 dt에 저장\n",
    "dt =pd.to_datetime(taxi_loop_concat[taxi_loop_concat.Dispatching_base_num == 'B00029']['Pickup_date'])"
   ]
  },
  {
   "cell_type": "code",
   "execution_count": 24,
   "metadata": {},
   "outputs": [
    {
     "data": {
      "text/plain": [
       "Timedelta('91 days 23:53:00')"
      ]
     },
     "execution_count": 24,
     "metadata": {},
     "output_type": "execute_result"
    }
   ],
   "source": [
    "dt.max()-dt.min()"
   ]
  },
  {
   "cell_type": "code",
   "execution_count": null,
   "metadata": {},
   "outputs": [],
   "source": []
  }
 ],
 "metadata": {
  "kernelspec": {
   "display_name": "Python 3",
   "language": "python",
   "name": "python3"
  },
  "language_info": {
   "codemirror_mode": {
    "name": "ipython",
    "version": 3
   },
   "file_extension": ".py",
   "mimetype": "text/x-python",
   "name": "python",
   "nbconvert_exporter": "python",
   "pygments_lexer": "ipython3",
   "version": "3.7.3"
  }
 },
 "nbformat": 4,
 "nbformat_minor": 2
}
